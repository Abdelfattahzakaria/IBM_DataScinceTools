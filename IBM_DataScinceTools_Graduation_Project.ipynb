{
 "cells": [
  {
   "cell_type": "markdown",
   "id": "27e03f21",
   "metadata": {},
   "source": [
    "# IBM_DataScinceTools_Graduation_Project     "
   ]
  },
  {
   "cell_type": "markdown",
   "id": "2a18757f",
   "metadata": {},
   "source": [
    "### Introduction To The Data Scince Tools: \n",
    "In today's data-driven world, extracting meaningful insights from vast and complex datasets is paramount. This quest for knowledge and actionable intelligence has led to the development and utilization of a plethora of tools specifically designed for data science. These tools serve as the bedrock for analysts, data scientists, and businesses seeking to derive value from data.\n",
    "\n",
    "At the forefront of this technological revolution lie numerous powerful and versatile tools, each uniquely crafted to tackle different facets of the data science pipeline. From data acquisition and cleansing to analysis, modeling, and visualization, these tools play a pivotal role in transforming raw information into valuable insights."
   ]
  },
  {
   "cell_type": "markdown",
   "id": "1d377840",
   "metadata": {},
   "source": [
    "### List Of Data Scince Languages  \n",
    "- Python \n",
    "- R \n",
    "- SQL (Structured Query Language)\n",
    "- Julia\n",
    "- Java\n",
    "- Scala\n",
    "- MATLAB"
   ]
  },
  {
   "cell_type": "markdown",
   "id": "375f2426",
   "metadata": {},
   "source": [
    "### List Of Data Scince Libraries \n",
    "#### **Python** \n",
    "- Pandas\n",
    "- NumPy \n",
    "- Matplotlib \n",
    "- Seaborn\n",
    "- scikit-learn\n",
    "- TensorFlow and Keras\n",
    "#### **R** \n",
    "- Dplyr and Tidyr\n",
    "- Ggplot2\n",
    "- Caret and MLR \n",
    "- Tidyverse\n",
    "#### **Other Libraries Across Languages** \n",
    "- SQLAlchemy (Python)\n",
    "- H2O (Java, Python, R) \n",
    "- Spark MLlib (Scala, Java, Python, R) \n",
    "- caret (R)"
   ]
  },
  {
   "cell_type": "markdown",
   "id": "1958fae7",
   "metadata": {},
   "source": [
    "### Table Of Data Science Tools \n",
    "| Category | Tools | Description | \n",
    "|----------|-------|-------------|\n",
    "|Data Collection & Integration | Apache Kafka, Apache NiFi, Informatica | Tools for seamless data collection, integration, and extraction from diverse sources into a unified format.|\n",
    "|Data Cleaning & Preparation | Pandas, OpenRefine, Trifacta | Libraries and tools for cleaning, transforming, and pre-processing raw data to make it suitable for analysis.|\n",
    "|Exploratory Data Analysis (EDA) | Jupyter Notebooks, RStudio, MATLAB | Environments for interactive exploration and visualization of data, allowing analysts to understand patterns and trends before deeper analysis| \n",
    "|Statistical Analysis | R (stats package), IBM SPSS, SAS | Tools offering a wide range of statistical tests, algorithms, and methodologies for in-depth statistical analysis and hypothesis testing.| \n",
    "|Machine Learning & Modeling | scikit-learn, TensorFlow, PyTorch, caret | Libraries and frameworks for building, training, and evaluating machine learning models for predictive analytics and pattern recognition.|\n",
    "|Big Data Processing |Apache Spark, Hadoop, Apache Flink | Frameworks designed to handle large-scale data processing, employing distributed computing techniques for efficient data analysis.|\n",
    "|Data Visualization |Tableau, Power BI, Matplotlib, ggplot2 | Tools offering a range of visualization options to create informative and compelling visual representations of data for better insights.|\n",
    "|Cloud-based Platforms | Google Colab, AWS SageMaker, Azure ML | Platforms providing cloud-based solutions for data storage, processing, and machine learning, enhancing accessibility and scalability.|\n",
    "|Database Management | MySQL, PostgreSQL, MongoDB, SQLite | Database systems used for storing and managing structured and unstructured data, crucial for data retrieval and manipulation.|\n",
    "|Text Analytics & NLP | NLTK (Python), spaCy, Gensim, TextBlob | Libraries specializing in natural language processing (NLP) and text analysis, enabling extraction of insights from textual data.|\n",
    "|Time Series Analysis | Prophet, statsmodels (Python), forecast (R) | Libraries and tools tailored for analyzing and forecasting time-series data, crucial in various domains such as finance and economics.|\n",
    "|Geospatial Analysis | GeoPandas, Leaflet, ArcGIS, QGIS | Tools allowing analysis and visualization of geographical or spatial data, facilitating insights based on location-specific information.|"
   ]
  },
  {
   "cell_type": "markdown",
   "id": "e87813a1",
   "metadata": {},
   "source": [
    "### Arithmetic Expression Examples"
   ]
  },
  {
   "cell_type": "code",
   "execution_count": 15,
   "id": "b61f839d",
   "metadata": {},
   "outputs": [
    {
     "data": {
      "text/plain": [
       "30"
      ]
     },
     "execution_count": 15,
     "metadata": {},
     "output_type": "execute_result"
    }
   ],
   "source": [
    "10 + 20 "
   ]
  },
  {
   "cell_type": "code",
   "execution_count": 16,
   "id": "063cfa20",
   "metadata": {},
   "outputs": [
    {
     "data": {
      "text/plain": [
       "20"
      ]
     },
     "execution_count": 16,
     "metadata": {},
     "output_type": "execute_result"
    }
   ],
   "source": [
    "50 - 30 "
   ]
  },
  {
   "cell_type": "code",
   "execution_count": 17,
   "id": "16273165",
   "metadata": {},
   "outputs": [
    {
     "data": {
      "text/plain": [
       "80"
      ]
     },
     "execution_count": 17,
     "metadata": {},
     "output_type": "execute_result"
    }
   ],
   "source": [
    "40 * 2 "
   ]
  },
  {
   "cell_type": "code",
   "execution_count": 18,
   "id": "73ebb19e",
   "metadata": {},
   "outputs": [
    {
     "data": {
      "text/plain": [
       "25.0"
      ]
     },
     "execution_count": 18,
     "metadata": {},
     "output_type": "execute_result"
    }
   ],
   "source": [
    "50 / 2 "
   ]
  },
  {
   "cell_type": "code",
   "execution_count": 19,
   "id": "e89c3ca9",
   "metadata": {},
   "outputs": [
    {
     "data": {
      "text/plain": [
       "25"
      ]
     },
     "execution_count": 19,
     "metadata": {},
     "output_type": "execute_result"
    }
   ],
   "source": [
    "5 ** 2 "
   ]
  },
  {
   "cell_type": "code",
   "execution_count": 20,
   "id": "1738f410",
   "metadata": {},
   "outputs": [
    {
     "data": {
      "text/plain": [
       "0"
      ]
     },
     "execution_count": 20,
     "metadata": {},
     "output_type": "execute_result"
    }
   ],
   "source": [
    "20 % 5 "
   ]
  },
  {
   "cell_type": "markdown",
   "id": "4d59c72e",
   "metadata": {},
   "source": [
    "### Cell To Multiply Two Numbers "
   ]
  },
  {
   "cell_type": "code",
   "execution_count": 21,
   "id": "50c043a2",
   "metadata": {},
   "outputs": [
    {
     "data": {
      "text/plain": [
       "25"
      ]
     },
     "execution_count": 21,
     "metadata": {},
     "output_type": "execute_result"
    }
   ],
   "source": [
    "5 * 5 "
   ]
  },
  {
   "cell_type": "markdown",
   "id": "e5e010b5",
   "metadata": {},
   "source": [
    "### Cell To Add Two Numbers "
   ]
  },
  {
   "cell_type": "code",
   "execution_count": 22,
   "id": "6cd4bc0e",
   "metadata": {},
   "outputs": [
    {
     "data": {
      "text/plain": [
       "50"
      ]
     },
     "execution_count": 22,
     "metadata": {},
     "output_type": "execute_result"
    }
   ],
   "source": [
    "30 + 20 "
   ]
  },
  {
   "cell_type": "markdown",
   "id": "6cb25a2d",
   "metadata": {},
   "source": [
    "### cell to convert minutes to hours"
   ]
  },
  {
   "cell_type": "code",
   "execution_count": 23,
   "id": "0a97ad25",
   "metadata": {},
   "outputs": [],
   "source": [
    "TimeInMinutes= 300"
   ]
  },
  {
   "cell_type": "code",
   "execution_count": 24,
   "id": "24266b6b",
   "metadata": {},
   "outputs": [],
   "source": [
    "TimeInHours= TimeInMinutes / 60 "
   ]
  },
  {
   "cell_type": "code",
   "execution_count": 25,
   "id": "0c8f5e83",
   "metadata": {},
   "outputs": [],
   "source": [
    "StrTimeInHours= str(TimeInHours)\n",
    "HoursMinutes= StrTimeInHours.split(\".\")\n",
    "Hours= HoursMinutes[0] \n",
    "Minutes= HoursMinutes[1] "
   ]
  },
  {
   "cell_type": "code",
   "execution_count": 26,
   "id": "7eccb989",
   "metadata": {},
   "outputs": [
    {
     "name": "stdout",
     "output_type": "stream",
     "text": [
      "The Time In Hours Is: 5 Hours AND 0 Minutes\n"
     ]
    }
   ],
   "source": [
    "print(f\"The Time In Hours Is: {Hours} Hours AND {Minutes} Minutes\") "
   ]
  },
  {
   "cell_type": "markdown",
   "id": "9da30d11",
   "metadata": {},
   "source": [
    "### List Of Data Scince Tools Objectives \n",
    "- **Data Collection & Integration:** Tools aim to streamline the collection and integration of data from diverse sources, ensuring the aggregation of information in a cohesive and usable format. The objective is to enable easy access to relevant data for analysis.\n",
    "\n",
    "- **Data Cleaning & Preparation:** The tools focus on automating and simplifying data cleaning and preparation tasks. The goal is to transform raw, messy data into a clean, structured format suitable for analysis, ensuring accuracy and reliability.\n",
    "\n",
    "- **Exploratory Data Analysis (EDA):** EDA tools aim to provide an environment for visualizing and exploring data patterns, facilitating the identification of trends, correlations, outliers, and potential relationships within the dataset.\n",
    "\n",
    "- **Statistical Analysis & Modeling:** The objective is to provide libraries and frameworks that enable analysts to apply statistical methods and build predictive models, allowing for hypothesis testing, pattern recognition, and making data-driven predictions.\n",
    "\n",
    "- **Big Data Processing:** Tools focus on handling large-scale data processing efficiently, leveraging distributed computing techniques to manage and analyze massive datasets within reasonable timeframes.\n",
    "\n",
    "- **Data Visualization:** The objective is to offer tools that help in creating visually compelling representations of data, making it easier to convey insights and patterns to stakeholders in an understandable manner.\n",
    "\n",
    "- **Cloud-based Platforms:** The goal is to provide scalable, accessible, and cost-effective solutions for data storage, processing, and machine learning tasks, allowing users to harness the power of the cloud for their data science projects.\n",
    "\n",
    "- **Database Management:** Tools aim to facilitate efficient storage, retrieval, and manipulation of structured and unstructured data within various database systems, ensuring data integrity and accessibility.\n",
    "\n",
    "- **Text Analytics & NLP:** The objective is to offer tools for extracting insights from textual data, enabling sentiment analysis, entity recognition, summarization, and other natural language processing tasks.\n",
    "\n",
    "- **Time Series Analysis:** Tools in this category aim to facilitate the analysis and forecasting of time-series data, enabling businesses to make informed decisions based on historical patterns and future projections.\n",
    "\n",
    "- **Geospatial Analysis:** The objective is to provide tools for analyzing and visualizing geographic or spatial data, allowing for insights based on location-specific information."
   ]
  },
  {
   "cell_type": "markdown",
   "id": "2f7edc00",
   "metadata": {},
   "source": [
    "# Introduce My Self: \n",
    "## ***Name:*** Abdelfattah Zakaria Abdelfattah "
   ]
  }
 ],
 "metadata": {
  "kernelspec": {
   "display_name": "Python 3 (ipykernel)",
   "language": "python",
   "name": "python3"
  },
  "language_info": {
   "codemirror_mode": {
    "name": "ipython",
    "version": 3
   },
   "file_extension": ".py",
   "mimetype": "text/x-python",
   "name": "python",
   "nbconvert_exporter": "python",
   "pygments_lexer": "ipython3",
   "version": "3.11.4"
  }
 },
 "nbformat": 4,
 "nbformat_minor": 5
}
